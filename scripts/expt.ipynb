{
 "cells": [
  {
   "cell_type": "code",
   "execution_count": 49,
   "id": "8730dac4",
   "metadata": {},
   "outputs": [],
   "source": [
    "import json"
   ]
  },
  {
   "cell_type": "code",
   "execution_count": 58,
   "id": "46afa889",
   "metadata": {},
   "outputs": [],
   "source": [
    "file_path = \"../data/singapore.json\"\n",
    "file_path = \"../data/delhi.json\"\n",
    "\n",
    "with open(file_path, \"r\", encoding=\"utf-8\") as f:\n",
    "    data = json.load(f)"
   ]
  },
  {
   "cell_type": "code",
   "execution_count": 52,
   "id": "94af3818",
   "metadata": {},
   "outputs": [
    {
     "data": {
      "text/plain": [
       "dict_keys(['success', 'epoch_generated', 'date_generated', 'slug', 'cityName', 'latitude', 'longitude', 'tags', 'noDecimalLessAllUsersPaths', 'oneDecimalLessAllUsersPaths', 'highZoomUsersPaths', 'homePrices', 'rentPrices', 'cafes', 'coworkings', 'colors', 'hipsterCenter', 'preHipsterCenter', 'neighborhoodsGeoJSONAvailable', 'neighborhoodsGeoJSONURL'])"
      ]
     },
     "execution_count": 52,
     "metadata": {},
     "output_type": "execute_result"
    }
   ],
   "source": [
    "data.keys()"
   ]
  },
  {
   "cell_type": "code",
   "execution_count": 62,
   "id": "24d369f3",
   "metadata": {},
   "outputs": [
    {
     "data": {
      "text/plain": [
       "93696"
      ]
     },
     "execution_count": 62,
     "metadata": {},
     "output_type": "execute_result"
    }
   ],
   "source": [
    "cat = [x[\"category\"] for x in data[\"oneDecimalLessAllUsersPaths\"]]\n",
    "# tags = [x[\"tag\"] for x in data[\"tags\"]]\n",
    "len(cat)"
   ]
  },
  {
   "cell_type": "code",
   "execution_count": 42,
   "id": "e777a2db",
   "metadata": {},
   "outputs": [
    {
     "data": {
      "text/plain": [
       "datetime.datetime(2025, 9, 12, 20, 49, 24)"
      ]
     },
     "execution_count": 42,
     "metadata": {},
     "output_type": "execute_result"
    }
   ],
   "source": [
    "from datetime import datetime\n",
    "datetime.fromtimestamp(1757710164)"
   ]
  },
  {
   "cell_type": "code",
   "execution_count": 6,
   "id": "7220be3d",
   "metadata": {},
   "outputs": [
    {
     "name": "stdout",
     "output_type": "stream",
     "text": [
      "Hello\n"
     ]
    },
    {
     "data": {
      "text/plain": [
       "1"
      ]
     },
     "execution_count": 6,
     "metadata": {},
     "output_type": "execute_result"
    }
   ],
   "source": [
    "class Singleton(type):\n",
    "    _instances = {}\n",
    "    def __call__(cls, *args, **kwargs):\n",
    "        if cls not in cls._instances:\n",
    "            cls._instances[cls] = super(Singleton, cls).__call__(*args, **kwargs)\n",
    "        return cls._instances[cls]\n",
    "\n",
    "class X(metaclass=Singleton):\n",
    "    def __init__(self, value):\n",
    "        self.value = value\n",
    "        print(\"Hello\")\n",
    "\n",
    "    # def __new__(cls, *args, **kwargs):\n",
    "    #     print(\"You\")\n",
    "    #     if cls.instance is None:\n",
    "    #         cls.instance = super().__new__(cls)\n",
    "    #     return cls.instance\n",
    "\n",
    "X(1).value"
   ]
  },
  {
   "cell_type": "code",
   "execution_count": 8,
   "metadata": {},
   "outputs": [
    {
     "data": {
      "text/plain": [
       "'{\"s\":\"ff\"}'"
      ]
     },
     "execution_count": 8,
     "metadata": {},
     "output_type": "execute_result"
    }
   ],
   "source": [
    "from pydantic import BaseModel\n",
    "\n",
    "class Y(BaseModel):\n",
    "    s : str\n",
    "\n",
    "Y(s=\"ff\").model_dump_json()"
   ]
  },
  {
   "cell_type": "code",
   "execution_count": 2,
   "id": "702804c4",
   "metadata": {},
   "outputs": [
    {
     "name": "stdout",
     "output_type": "stream",
     "text": [
      "[True, False, True]\n"
     ]
    }
   ],
   "source": [
    "from typing import List, Dict, Union, Any, Type\n",
    "\n",
    "# SchemaType = Dict[str, Union[Type[str], Type[int], Type[float]]]\n",
    "STRING_TO_FIELD = {\n",
    "    'str'   : str,\n",
    "    'int'   : int,\n",
    "    'float' : float,\n",
    "}\n",
    "\n",
    "def validate_objects(schema: Dict[str, str], objects: List[Dict[str, Any]]) -> List[bool]:\n",
    "    \"\"\"\n",
    "    Validate a list of objects against a schema.\n",
    "    \n",
    "    :param schema: Dict with field_name -> expected_type (str, int, float).\n",
    "    :param objects: List of objects (dicts) to validate.\n",
    "    :return: List of booleans, one per object (True if valid, False otherwise).\n",
    "    \"\"\"\n",
    "    results = []\n",
    "    for obj in objects:\n",
    "        valid = True\n",
    "        for field, expected_type_str in schema.items():\n",
    "            expected_type = STRING_TO_FIELD[expected_type_str]\n",
    "            if field not in obj:\n",
    "                valid = False\n",
    "                break\n",
    "            value = obj[field]\n",
    "            if not isinstance(value, expected_type):\n",
    "                # Allow int where float is expected\n",
    "                if expected_type is float and isinstance(value, int):\n",
    "                    continue\n",
    "                valid = False\n",
    "                break\n",
    "        results.append(valid)\n",
    "    return results\n",
    "\n",
    "schema = {\n",
    "    \"name\": \"str\",\n",
    "    \"age\": \"int\",\n",
    "    \"salary\": \"float\"\n",
    "}\n",
    "\n",
    "data = [\n",
    "    {\"name\": \"Alice\", \"age\": 30, \"salary\": 50000.0},\n",
    "    {\"name\": \"Bob\", \"age\": \"not an int\", \"salary\": 45000.0},\n",
    "    {\"name\": \"Charlie\", \"age\": 25, \"salary\": 42000}  # int accepted for float\n",
    "]\n",
    "\n",
    "print(validate_objects(schema, data))\n",
    "# ➝ [True, False, True]\n"
   ]
  },
  {
   "cell_type": "code",
   "execution_count": 4,
   "id": "8a3d7a4b",
   "metadata": {},
   "outputs": [
    {
     "name": "stdout",
     "output_type": "stream",
     "text": [
      "30\n",
      "['blob_106', 'blob_107']\n",
      "index_type='string' mapping={'alice@example.com': ['blob_101'], 'bob@example.com': ['blob_102', 'blob_110']}\n"
     ]
    }
   ],
   "source": [
    "from typing import Dict, List, Optional, Union, Literal\n",
    "from pydantic import BaseModel\n",
    "\n",
    "\n",
    "# ------------------------\n",
    "# B-Tree for numeric indexes\n",
    "# ------------------------\n",
    "class BTreeNode(BaseModel):\n",
    "    key: int\n",
    "    doc_ids: Optional[List[str]] = None\n",
    "    left: Optional[\"BTreeNode\"] = None\n",
    "    right: Optional[\"BTreeNode\"] = None\n",
    "\n",
    "\n",
    "BTreeNode.model_rebuild()\n",
    "\n",
    "\n",
    "# ------------------------\n",
    "# Two index variants\n",
    "# ------------------------\n",
    "class StringIndex(BaseModel):\n",
    "    index_type: Literal[\"string\"]\n",
    "    mapping: Dict[str, List[str]]  # value -> list of blob_ids\n",
    "\n",
    "\n",
    "class NumericIndex(BaseModel):\n",
    "    index_type: Literal[\"numeric\"]\n",
    "    root: BTreeNode\n",
    "\n",
    "\n",
    "# ------------------------\n",
    "# Unified Index\n",
    "# ------------------------\n",
    "Index = Union[StringIndex, NumericIndex]\n",
    "\n",
    "json_data = {\n",
    "    \"index_type\": \"numeric\",\n",
    "    \"root\": {\n",
    "        \"key\": 25,\n",
    "        \"doc_ids\": [\"blob_106\", \"blob_107\"],\n",
    "        \"left\": {\n",
    "            \"key\": 18,\n",
    "            \"doc_ids\": [\"blob_105\"]\n",
    "        },\n",
    "        \"right\": {\n",
    "            \"key\": 40,\n",
    "            \"doc_ids\": [\"blob_108\"],\n",
    "            \"left\": {\n",
    "                \"key\": 30,\n",
    "                \"doc_ids\": [\"blob_109\"]\n",
    "            }\n",
    "        }\n",
    "    }\n",
    "}\n",
    "# idx = Index.parse_obj(json_data)\n",
    "# print(idx)\n",
    "\n",
    "idx = NumericIndex(**json_data)\n",
    "print(idx.root.right.left.key)   # ➝ 30\n",
    "\n",
    "\n",
    "idx = NumericIndex(**json_data)  # or Index.parse_obj(json_data)\n",
    "print(idx.root.doc_ids)\n",
    "# ➝ ['blob_106', 'blob_107']\n",
    "\n",
    "json_data = {\n",
    "    \"index_type\": \"string\",\n",
    "    \n",
    "    \"mapping\": {\n",
    "        \"alice@example.com\": [\"blob_101\"],\n",
    "        \"bob@example.com\": [\"blob_102\", \"blob_110\"]\n",
    "    }\n",
    "}\n",
    "\n",
    "idx = StringIndex(**json_data)   # or Index.parse_obj(json_data)\n",
    "print(idx)\n",
    "# ➝ index_type='string' mapping={'alice@example.com': ['blob_101'], ...}\n"
   ]
  },
  {
   "cell_type": "code",
   "execution_count": 9,
   "id": "2927643b",
   "metadata": {},
   "outputs": [
    {
     "data": {
      "text/plain": [
       "\"[1, 2, 3, 'ff']\""
      ]
     },
     "execution_count": 9,
     "metadata": {},
     "output_type": "execute_result"
    }
   ],
   "source": [
    "x = {'a': 5, 'b': 10, 'c': 15}\n",
    "y = {**x, 'a': 20}\n",
    "z = [1,2,3,\"ff\"]\n",
    "obj = str(z).encode()\n",
    "obj.decode('utf-8')"
   ]
  },
  {
   "cell_type": "code",
   "execution_count": 3,
   "id": "192033da",
   "metadata": {},
   "outputs": [
    {
     "name": "stdout",
     "output_type": "stream",
     "text": [
      "walrus-python      0.1.0\n",
      "walrusdb           0.0.1       C:\\Users\\nishk\\Documents\\Cudding\\btchd\\walrusdb\n"
     ]
    },
    {
     "name": "stderr",
     "output_type": "stream",
     "text": [
      "\n",
      "[notice] A new release of pip available: 22.2.1 -> 25.2\n",
      "[notice] To update, run: python.exe -m pip install --upgrade pip\n",
      "'from' is not recognized as an internal or external command,\n",
      "operable program or batch file.\n"
     ]
    }
   ],
   "source": [
    "! pip list | grep walrus\n",
    "! from walrusdb.types import Object"
   ]
  },
  {
   "cell_type": "code",
   "execution_count": 2,
   "id": "e4b7f81a",
   "metadata": {},
   "outputs": [
    {
     "data": {
      "text/plain": [
       "[1, 2, 4]"
      ]
     },
     "execution_count": 2,
     "metadata": {},
     "output_type": "execute_result"
    }
   ],
   "source": [
    "a = [1,2,3,4]\n",
    "a.remove(3)\n",
    "a"
   ]
  },
  {
   "cell_type": "code",
   "execution_count": 2,
   "id": "1a7f506f",
   "metadata": {},
   "outputs": [],
   "source": [
    "import time\n",
    "import asyncio\n",
    "\n",
    "async def timer(sec):\n",
    "    await time.sleep(sec)\n",
    "    return 5"
   ]
  },
  {
   "cell_type": "code",
   "execution_count": 3,
   "id": "5ea7f7b0",
   "metadata": {},
   "outputs": [
    {
     "ename": "RuntimeError",
     "evalue": "asyncio.run() cannot be called from a running event loop",
     "output_type": "error",
     "traceback": [
      "\u001b[31m---------------------------------------------------------------------------\u001b[39m",
      "\u001b[31mRuntimeError\u001b[39m                              Traceback (most recent call last)",
      "\u001b[36mCell\u001b[39m\u001b[36m \u001b[39m\u001b[32mIn[3]\u001b[39m\u001b[32m, line 1\u001b[39m\n\u001b[32m----> \u001b[39m\u001b[32m1\u001b[39m x = \u001b[43masyncio\u001b[49m\u001b[43m.\u001b[49m\u001b[43mrun\u001b[49m\u001b[43m(\u001b[49m\u001b[43mtimer\u001b[49m\u001b[43m)\u001b[49m\n\u001b[32m      2\u001b[39m x\n",
      "\u001b[36mFile \u001b[39m\u001b[32m/usr/local/python/3.12.1/lib/python3.12/asyncio/runners.py:190\u001b[39m, in \u001b[36mrun\u001b[39m\u001b[34m(main, debug, loop_factory)\u001b[39m\n\u001b[32m    161\u001b[39m \u001b[38;5;250m\u001b[39m\u001b[33;03m\"\"\"Execute the coroutine and return the result.\u001b[39;00m\n\u001b[32m    162\u001b[39m \n\u001b[32m    163\u001b[39m \u001b[33;03mThis function runs the passed coroutine, taking care of\u001b[39;00m\n\u001b[32m   (...)\u001b[39m\u001b[32m    186\u001b[39m \u001b[33;03m    asyncio.run(main())\u001b[39;00m\n\u001b[32m    187\u001b[39m \u001b[33;03m\"\"\"\u001b[39;00m\n\u001b[32m    188\u001b[39m \u001b[38;5;28;01mif\u001b[39;00m events._get_running_loop() \u001b[38;5;129;01mis\u001b[39;00m \u001b[38;5;129;01mnot\u001b[39;00m \u001b[38;5;28;01mNone\u001b[39;00m:\n\u001b[32m    189\u001b[39m     \u001b[38;5;66;03m# fail fast with short traceback\u001b[39;00m\n\u001b[32m--> \u001b[39m\u001b[32m190\u001b[39m     \u001b[38;5;28;01mraise\u001b[39;00m \u001b[38;5;167;01mRuntimeError\u001b[39;00m(\n\u001b[32m    191\u001b[39m         \u001b[33m\"\u001b[39m\u001b[33masyncio.run() cannot be called from a running event loop\u001b[39m\u001b[33m\"\u001b[39m)\n\u001b[32m    193\u001b[39m \u001b[38;5;28;01mwith\u001b[39;00m Runner(debug=debug, loop_factory=loop_factory) \u001b[38;5;28;01mas\u001b[39;00m runner:\n\u001b[32m    194\u001b[39m     \u001b[38;5;28;01mreturn\u001b[39;00m runner.run(main)\n",
      "\u001b[31mRuntimeError\u001b[39m: asyncio.run() cannot be called from a running event loop"
     ]
    }
   ],
   "source": [
    "x = asyncio.run(timer)\n",
    "x"
   ]
  },
  {
   "cell_type": "code",
   "execution_count": null,
   "id": "a8e72929",
   "metadata": {},
   "outputs": [],
   "source": []
  }
 ],
 "metadata": {
  "kernelspec": {
   "display_name": "Python 3",
   "language": "python",
   "name": "python3"
  },
  "language_info": {
   "codemirror_mode": {
    "name": "ipython",
    "version": 3
   },
   "file_extension": ".py",
   "mimetype": "text/x-python",
   "name": "python",
   "nbconvert_exporter": "python",
   "pygments_lexer": "ipython3",
   "version": "3.12.1"
  }
 },
 "nbformat": 4,
 "nbformat_minor": 5
}
