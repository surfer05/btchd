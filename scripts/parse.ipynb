{
 "cells": [
  {
   "cell_type": "code",
   "execution_count": 49,
   "id": "8730dac4",
   "metadata": {},
   "outputs": [],
   "source": [
    "import json"
   ]
  },
  {
   "cell_type": "code",
   "execution_count": 58,
   "id": "46afa889",
   "metadata": {},
   "outputs": [],
   "source": [
    "file_path = \"../data/singapore.json\"\n",
    "file_path = \"../data/delhi.json\"\n",
    "\n",
    "with open(file_path, \"r\", encoding=\"utf-8\") as f:\n",
    "    data = json.load(f)"
   ]
  },
  {
   "cell_type": "code",
   "execution_count": 52,
   "id": "94af3818",
   "metadata": {},
   "outputs": [
    {
     "data": {
      "text/plain": [
       "dict_keys(['success', 'epoch_generated', 'date_generated', 'slug', 'cityName', 'latitude', 'longitude', 'tags', 'noDecimalLessAllUsersPaths', 'oneDecimalLessAllUsersPaths', 'highZoomUsersPaths', 'homePrices', 'rentPrices', 'cafes', 'coworkings', 'colors', 'hipsterCenter', 'preHipsterCenter', 'neighborhoodsGeoJSONAvailable', 'neighborhoodsGeoJSONURL'])"
      ]
     },
     "execution_count": 52,
     "metadata": {},
     "output_type": "execute_result"
    }
   ],
   "source": [
    "data.keys()"
   ]
  },
  {
   "cell_type": "code",
   "execution_count": 62,
   "id": "24d369f3",
   "metadata": {},
   "outputs": [
    {
     "data": {
      "text/plain": [
       "93696"
      ]
     },
     "execution_count": 62,
     "metadata": {},
     "output_type": "execute_result"
    }
   ],
   "source": [
    "cat = [x[\"category\"] for x in data[\"oneDecimalLessAllUsersPaths\"]]\n",
    "# tags = [x[\"tag\"] for x in data[\"tags\"]]\n",
    "len(cat)"
   ]
  },
  {
   "cell_type": "code",
   "execution_count": 42,
   "id": "e777a2db",
   "metadata": {},
   "outputs": [
    {
     "data": {
      "text/plain": [
       "datetime.datetime(2025, 9, 12, 20, 49, 24)"
      ]
     },
     "execution_count": 42,
     "metadata": {},
     "output_type": "execute_result"
    }
   ],
   "source": [
    "from datetime import datetime\n",
    "datetime.fromtimestamp(1757710164)"
   ]
  }
 ],
 "metadata": {
  "kernelspec": {
   "display_name": "Python 3",
   "language": "python",
   "name": "python3"
  },
  "language_info": {
   "codemirror_mode": {
    "name": "ipython",
    "version": 3
   },
   "file_extension": ".py",
   "mimetype": "text/x-python",
   "name": "python",
   "nbconvert_exporter": "python",
   "pygments_lexer": "ipython3",
   "version": "3.12.1"
  }
 },
 "nbformat": 4,
 "nbformat_minor": 5
}
